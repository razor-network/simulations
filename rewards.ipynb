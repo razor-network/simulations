{
 "cells": [
  {
   "cell_type": "code",
   "execution_count": 2,
   "id": "debc9219-136d-49c2-93cd-df2d2c948e02",
   "metadata": {},
   "outputs": [],
   "source": [
    "import matplotlib.pyplot as plt\n",
    "import math\n",
    "import random\n",
    "from numpy.random import default_rng\n",
    "\n"
   ]
  },
  {
   "cell_type": "code",
   "execution_count": 3,
   "id": "1b4e6531",
   "metadata": {},
   "outputs": [
    {
     "name": "stdout",
     "output_type": "stream",
     "text": [
      "[10000, 40000, 90000, 160000, 250000, 360000, 490000, 640000, 810000, 1000000]\n",
      "3850000\n"
     ]
    },
    {
     "data": {
      "image/png": "[encoded data removed]",
      "text/plain": [
       "<Figure size 432x288 with 1 Axes>"
      ]
     },
     "metadata": {
      "needs_background": "light"
     },
     "output_type": "display_data"
    }
   ],
   "source": [
    "\n",
    "\n",
    "stakers=[]\n",
    "numStakers=10\n",
    "for i in range(1,numStakers+1):\n",
    "    stakers.append(10000*i*i)\n",
    "    \n",
    "print(stakers)\n",
    "stakersBefore = stakers.copy()\n",
    "print(sum(stakers))\n",
    "plt.figure(0)\n",
    "\n",
    "plt.plot(stakers)\n",
    "epochs=10000\n",
    "dynastyEpochs=1\n",
    "exposure=1000\n",
    "minStake=1000\n",
    "roll=0.05\n",
    "tolerance = 0\n",
    "blockReward = 0\n",
    "#concentrationPenalty = 10000\n",
    "\n",
    "rewardPool=0\n",
    "stakes=[stakers]\n",
    "    \n",
    "def vote():\n",
    "#     if random.random()<roll:\n",
    "#         return 200\n",
    "#     else:\n",
    "#         return 100\n",
    "    return default_rng().normal(loc=100, scale=1)\n",
    "    \n",
    "def penalty(stake):\n",
    "    return stake//exposure\n",
    "\n",
    "def rewards(stake, stakeGettingReward):\n",
    "    return (stake*rewardPool)//stakeGettingReward\n",
    "\n",
    "def chooseblockProposer(stakers):\n",
    "    winner = math.floor(random.randrange(math.floor(sum(stakers))))\n",
    "    #print(winner)\n",
    "    sortedStakers=sorted(stakers)\n",
    "    \n",
    "    agg=0\n",
    "    for i in range(len(stakers)):\n",
    "        agg+=sortedStakers[len(stakers)-i-1]\n",
    "        if agg>winner:\n",
    "            return len(stakers)-i-1\n",
    "        \n",
    "\n",
    "\n",
    "    "
   ]
  },
  {
   "cell_type": "code",
   "execution_count": 4,
   "id": "fc4af20a",
   "metadata": {},
   "outputs": [
    {
     "name": "stdout",
     "output_type": "stream",
     "text": [
      "3850000.000000011\n"
     ]
    },
    {
     "data": {
      "image/png": "[encoded data removed]",
      "text/plain": [
       "<Figure size 432x288 with 1 Axes>"
      ]
     },
     "metadata": {
      "needs_background": "light"
     },
     "output_type": "display_data"
    },
    {
     "data": {
      "text/plain": [
       "<Figure size 432x288 with 0 Axes>"
      ]
     },
     "metadata": {},
     "output_type": "display_data"
    },
    {
     "data": {
      "image/png": "[encoded data removed]",
      "text/plain": [
       "<Figure size 432x288 with 1 Axes>"
      ]
     },
     "metadata": {},
     "output_type": "display_data"
    },
    {
     "name": "stdout",
     "output_type": "stream",
     "text": [
      "[999.0288228679523, 999.3051513020131, 999.5985815584828, 999.1562565083833, 999.9493931888586, 999.9278393926606, 999.6191103957975, 999.3587154145581, 999.0174385488604, 3841005.038690834]\n",
      "[10000, 40000, 90000, 160000, 250000, 360000, 490000, 640000, 810000, 1000000]\n",
      "0.09990288228679522\n",
      "0.024982628782550326\n",
      "0.011106650906205365\n",
      "0.006244726603177396\n",
      "0.0039997975727554345\n",
      "0.0027775773316462797\n",
      "0.00204003900080775\n",
      "0.001561497992835247\n",
      "0.0012333548624060004\n",
      "3.8410050386908337\n"
     ]
    }
   ],
   "source": [
    "\n",
    "winners=[0]*numStakers\n",
    "\n",
    "def main():\n",
    "    rewardPool=0\n",
    "    rewards=[0]*numStakers\n",
    "\n",
    "    for i in range(epochs):\n",
    "\n",
    "        votes=[]\n",
    "        #print(i)\n",
    "        #print(stakers)\n",
    "        #print(\"rewardPool\", rewardPool)\n",
    "\n",
    "        #print(sum(stakers)-sum(stakersBefore))\n",
    "        ## VOTE ##\n",
    "        for j in range(len(stakers)):\n",
    "            if stakers[j]<minStake:\n",
    "                votes.append(0)\n",
    "                continue\n",
    "            votes.append(vote())\n",
    "\n",
    "        #print(votes)\n",
    "        \n",
    "        uVotes=set(votes)\n",
    "        ## WeightedVotes ##\n",
    "        wVotes={}\n",
    "        weights=[]\n",
    "        for j in uVotes:\n",
    "            weight = 0\n",
    "            if j==0:\n",
    "                continue\n",
    "            for k in range(len(votes)):\n",
    "\n",
    "                if j==votes[k]:\n",
    "                    weight+=stakers[k]\n",
    "                wVotes[j]=weight\n",
    "        wVotesSorted=sorted(wVotes)\n",
    "                  \n",
    "        totalStake=sum(stakers)\n",
    "        medianWeight = totalStake/2\n",
    "        lowerCutoffWeight = totalStake/4\n",
    "        higherCutoffWeight = (totalStake*3)/4\n",
    "        lowerCutoff = 0\n",
    "        higherCutoff = 0\n",
    "        median = 0\n",
    "        agg=0\n",
    "        for k in ((wVotesSorted)):\n",
    "            agg+=wVotes[k]\n",
    "            #print(k,v)\n",
    "            if lowerCutoff == 0 and agg >= lowerCutoffWeight:\n",
    "                lowerCutoff = k\n",
    "            if median == 0 and agg >= medianWeight:\n",
    "                median = k    \n",
    "            if higherCutoff == 0 and agg >= higherCutoffWeight:\n",
    "                higherCutoff = k\n",
    "        #print(lowerCutoff, median, higherCutoff)\n",
    "\n",
    "        ## PENALTY ##\n",
    "        stakeGettingReward=0\n",
    "        for j in range(len(stakers)):\n",
    "            if stakers[j]<minStake:\n",
    "                continue\n",
    "            if (votes[j]<lowerCutoff or votes[j]>higherCutoff) and (abs(votes[j]-median))>tolerance:\n",
    "#                 print('penalizing', votes[j], lowerCutoff,higherCutoff, median, abs(votes[j]-median),tolerance )\n",
    "                penalty = stakers[j]/exposure\n",
    "                stakers[j]-=penalty\n",
    "                rewardPool+=penalty\n",
    "            else:\n",
    "                rewards[j]+=1\n",
    "        \n",
    "        ## BLOCKREWRD ##\n",
    "        winner = chooseblockProposer(stakers)\n",
    "        #print(winner)\n",
    "        winners[winner]+=1\n",
    "        #print('winners',winners)\n",
    "        #print(stakers)\n",
    "        stakers[winner]+=blockReward\n",
    "        #print(stakers)\n",
    "\n",
    "        \n",
    "        ## REWARD ##\n",
    "        #print(\"rewardPool\", rewardPool)\n",
    "        #print(\"rewards\",rewards)\n",
    "        if (i%dynastyEpochs==0):\n",
    "            #print(\"lets reward\")\n",
    "            rewardLastDynasty = rewardPool\n",
    "            for j in range(len(stakers)):\n",
    "                reward = (rewardLastDynasty*stakers[j]*rewards[j])/(dynastyEpochs*totalStake)\n",
    "                \n",
    "                stakers[j]+=reward\n",
    "                rewardPool-= reward\n",
    "            rewards=[0]*numStakers\n",
    "        #print(stakers)\n",
    "\n",
    "        stakes.append(stakers)\n",
    "\n",
    "    \n",
    "    \n",
    "main()\n",
    "print(sum(stakers))\n",
    "plt.plot(stakers)\n",
    "plt.figure(1)\n",
    "\n",
    "plt.plot(stakes)\n",
    "\n",
    "# plt.figure(2)\n",
    "# # Pie chart, where the slices will be ordered and plotted counter-clockwise:\n",
    "# labels = range(len(stakers))\n",
    "\n",
    "# print('winners',winners)\n",
    "# print(stakers)\n",
    "# print(labels)\n",
    "# fig1, ax1 = plt.subplots()\n",
    "# ax1.pie(winners, labels=labels, autopct='%1.1f%%',\n",
    "#          shadow=True, startangle=90)\n",
    "# ax1.axis('equal')  # Equal aspect ratio ensures that pie is drawn as a circle.\n",
    "\n",
    "# plt.show()\n",
    "\n",
    "plt.figure(3)\n",
    "\n",
    "fig2, ax2 = plt.subplots()\n",
    "ax2.pie(stakers, labels=stakers, autopct='%1.1f%%',\n",
    "         shadow=True, startangle=90)\n",
    "ax2.axis('equal')  # Equal aspect ratio ensures that pie is drawn as a circle.\n",
    "\n",
    "plt.show()\n",
    "\n",
    "print((stakers))\n",
    "print((stakersBefore))\n",
    "\n",
    "for i in range(len(stakers)):\n",
    "    print(stakers[i]/stakersBefore[i])"
   ]
  },
  {
   "cell_type": "code",
   "execution_count": 191,
   "id": "1a4cd6ac-8519-4ca5-bb75-aa5f75a67f93",
   "metadata": {},
   "outputs": [
    {
     "data": {
      "text/plain": [
       "99.5481835066687"
      ]
     },
     "execution_count": 191,
     "metadata": {},
     "output_type": "execute_result"
    }
   ],
   "source": [
    "default_rng().normal(loc=100, scale=1)"
   ]
  },
  {
   "cell_type": "code",
   "execution_count": null,
   "id": "5c95efd3-cee0-45ca-86c0-37c22798c37a",
   "metadata": {},
   "outputs": [],
   "source": []
  },
  {
   "cell_type": "code",
   "execution_count": null,
   "id": "14edd03a-f099-4c47-aeb9-868501ccbfb9",
   "metadata": {},
   "outputs": [],
   "source": []
  }
 ],
 "metadata": {
  "kernelspec": {
   "display_name": "Python 3",
   "language": "python",
   "name": "python3"
  },
  "language_info": {
   "codemirror_mode": {
    "name": "ipython",
    "version": 3
   },
   "file_extension": ".py",
   "mimetype": "text/x-python",
   "name": "python",
   "nbconvert_exporter": "python",
   "pygments_lexer": "ipython3",
   "version": "3.9.6"
  }
 },
 "nbformat": 4,
 "nbformat_minor": 5
}
